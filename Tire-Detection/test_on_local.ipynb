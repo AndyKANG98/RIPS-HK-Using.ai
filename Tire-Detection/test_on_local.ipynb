{
 "cells": [
  {
   "cell_type": "code",
   "execution_count": 1,
   "metadata": {},
   "outputs": [
    {
     "name": "stdout",
     "output_type": "stream",
     "text": [
      " Volume in drive C is OS\n",
      " Volume Serial Number is 0C06-1231\n",
      "\n",
      " Directory of C:\\Users\\Kang\\Desktop\\RIPS-HK-Using-ai\\Tire-Detection\\frozen_graph\n",
      "\n",
      "09/04/2018  10:54 PM    <DIR>          .\n",
      "09/04/2018  10:54 PM    <DIR>          ..\n",
      "07/09/2018  11:16 AM             6,148 .DS_Store\n",
      "09/04/2018  10:54 PM    <DIR>          faster_rcnn_resnet50_coco_2018_01_28\n",
      "               1 File(s)          6,148 bytes\n",
      "               3 Dir(s)  300,208,099,328 bytes free\n"
     ]
    }
   ],
   "source": [
    "ls frozen_graph"
   ]
  },
  {
   "cell_type": "code",
   "execution_count": 2,
   "metadata": {},
   "outputs": [],
   "source": [
    "# paths for test image and final output\n",
    "input_path = \"./test_images/img\"\n",
    "# input_path = \"./images\"\n",
    "output_path = \"./results/img\"\n",
    "label_path = \"./annotations/label_map.pbtxt\"\n",
    "frozen_graph_path = \"./frozen_graph/%s/frozen_inference_graph.pb\" % 'faster_rcnn_resnet50_coco_2018_01_28'"
   ]
  },
  {
   "cell_type": "code",
   "execution_count": 1,
   "metadata": {},
   "outputs": [
    {
     "name": "stderr",
     "output_type": "stream",
     "text": [
      "C:\\Users\\Kang\\Anaconda3\\envs\\cs231n\\lib\\site-packages\\h5py\\__init__.py:36: FutureWarning: Conversion of the second argument of issubdtype from `float` to `np.floating` is deprecated. In future, it will be treated as `np.float64 == np.dtype(float).type`.\n",
      "  from ._conv import register_converters as _register_converters\n"
     ]
    },
    {
     "name": "stdout",
     "output_type": "stream",
     "text": [
      "INFO:tensorflow:Scale of 0 disables regularizer.\n",
      "INFO:tensorflow:Scale of 0 disables regularizer.\n",
      "INFO:tensorflow:depth of additional conv before box predictor: 0\n",
      "WARNING:tensorflow:From C:\\Users\\Kang\\Desktop\\Using_ai_dataset\\tire_detection\\tire_detection_v2_colab\\object_detection\\core\\box_predictor.py:407: calling reduce_mean (from tensorflow.python.ops.math_ops) with keep_dims is deprecated and will be removed in a future version.\n",
      "Instructions for updating:\n",
      "keep_dims is deprecated, use keepdims instead\n",
      "INFO:tensorflow:Scale of 0 disables regularizer.\n",
      "WARNING:tensorflow:From C:\\Users\\Kang\\Desktop\\Using_ai_dataset\\tire_detection\\tire_detection_v2_colab\\object_detection\\exporter.py:356: get_or_create_global_step (from tensorflow.contrib.framework.python.ops.variables) is deprecated and will be removed in a future version.\n",
      "Instructions for updating:\n",
      "Please switch to tf.train.get_or_create_global_step\n",
      "INFO:tensorflow:Restoring parameters from train/faster_rcnn_inception_v2_coco_2018_01_28/model.ckpt-20000\n",
      "INFO:tensorflow:Restoring parameters from train/faster_rcnn_inception_v2_coco_2018_01_28/model.ckpt-20000\n",
      "INFO:tensorflow:Froze 356 variables.\n",
      "INFO:tensorflow:Converted 356 variables to const ops.\n",
      "INFO:tensorflow:No assets to save.\n"
     ]
    },
    {
     "name": "stderr",
     "output_type": "stream",
     "text": [
      "INFO:tensorflow:No assets to save.\n"
     ]
    },
    {
     "name": "stdout",
     "output_type": "stream",
     "text": [
      "INFO:tensorflow:No assets to write.\n"
     ]
    },
    {
     "name": "stderr",
     "output_type": "stream",
     "text": [
      "INFO:tensorflow:No assets to write.\n"
     ]
    },
    {
     "name": "stdout",
     "output_type": "stream",
     "text": [
      "INFO:tensorflow:SavedModel written to: frozen_graph/faster_rcnn_inception_v2_coco_2018_01_28\\saved_model\\saved_model.pb\n"
     ]
    },
    {
     "name": "stderr",
     "output_type": "stream",
     "text": [
      "INFO:tensorflow:SavedModel written to: frozen_graph/faster_rcnn_inception_v2_coco_2018_01_28\\saved_model\\saved_model.pb\n"
     ]
    },
    {
     "name": "stdout",
     "output_type": "stream",
     "text": [
      "INFO:tensorflow:Writing pipeline config file to frozen_graph/faster_rcnn_inception_v2_coco_2018_01_28\\pipeline.config\n"
     ]
    },
    {
     "name": "stderr",
     "output_type": "stream",
     "text": [
      "INFO:tensorflow:Writing pipeline config file to frozen_graph/faster_rcnn_inception_v2_coco_2018_01_28\\pipeline.config\n"
     ]
    }
   ],
   "source": [
    "# export the frozen graph\n",
    "import sys\n",
    "import os\n",
    "\n",
    "model_name = 'faster_rcnn_inception_v2_coco_2018_01_28'\n",
    "\n",
    "# change directory\n",
    "os.chdir('../Tire-Detection')\n",
    "\n",
    "# append to python path\n",
    "sys.path.append('../Tire-Detection/slim')\n",
    "\n",
    "# paths\n",
    "pipeline_config_path=\"pipeline_config_files/%s.config\" % model_name\n",
    "checkpoint_path=\"train/%s/model.ckpt-20000\"% model_name\n",
    "output_path=\"frozen_graph/%s\"% model_name\n",
    "\n",
    "%run object_detection/export_inference_graph.py \\\n",
    "--input_type=image_tensor \\\n",
    "--pipeline_config_path=$pipeline_config_path \\\n",
    "--trained_checkpoint_prefix=$checkpoint_path \\\n",
    "--output_directory=$output_path\n"
   ]
  },
  {
   "cell_type": "code",
   "execution_count": 23,
   "metadata": {
    "scrolled": true
   },
   "outputs": [
    {
     "name": "stdout",
     "output_type": "stream",
     "text": [
      "Images Processed: 88\r"
     ]
    }
   ],
   "source": [
    "# run inference on the test set\n",
    "import sys\n",
    "import os\n",
    "\n",
    "model_name = 'faster_rcnn_inception_v2_coco_2018_01_28'\n",
    "\n",
    "# change directory\n",
    "os.chdir('../Tire-Detection')\n",
    "\n",
    "# append to python path\n",
    "sys.path.append('../Tire-Detection/slim')\n",
    "\n",
    "# paths for test image and final output\n",
    "input_path=\"test_images/img\"\n",
    "# input_path = \"./images\"\n",
    "output_path=\"results/%s/img\" % model_name\n",
    "label_path=\"annotations/label_map.pbtxt\"\n",
    "frozen_graph_path=\"frozen_graph/%s/frozen_inference_graph.pb\" % model_name\n",
    "\n",
    "\n",
    "# run on test set\n",
    "%run object_detection\\inference.py \\\n",
    "  --input_dir=$input_path \\\n",
    "  --output_dir=$output_path \\\n",
    "  --label_map=$label_path \\\n",
    "  --frozen_graph=$frozen_graph_path \\\n",
    "  --num_output_classes=1"
   ]
  }
 ],
 "metadata": {
  "kernelspec": {
   "display_name": "Python 3",
   "language": "python",
   "name": "python3"
  },
  "language_info": {
   "codemirror_mode": {
    "name": "ipython",
    "version": 3
   },
   "file_extension": ".py",
   "mimetype": "text/x-python",
   "name": "python",
   "nbconvert_exporter": "python",
   "pygments_lexer": "ipython3",
   "version": "3.6.5"
  }
 },
 "nbformat": 4,
 "nbformat_minor": 2
}
