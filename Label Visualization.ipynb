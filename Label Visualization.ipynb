{
 "cells": [
  {
   "cell_type": "code",
   "execution_count": 1,
   "metadata": {},
   "outputs": [],
   "source": [
    "import cv2\n",
    "import xml.dom.minidom\n",
    "import os\n",
    "\n",
    "## visualize the image with specific name (label \"name.jpg\" from \"name.xml\"\n",
    "def label_image(name):\n",
    "\n",
    "    # get the image\n",
    "    image_name = img_path + name + '.jpg'  \n",
    "    img = cv2.imread(image_name)\n",
    "\n",
    "    #open xml\n",
    "    dom = xml.dom.minidom.parse(label_path + name+'.xml')\n",
    "\n",
    "    #Get element of the root node \n",
    "    root = dom.documentElement\n",
    "\n",
    "    # Create lists for wheels\n",
    "    xmins = []\n",
    "    ymins = []\n",
    "    xmaxs = []\n",
    "    ymaxs = []\n",
    "\n",
    "    # Get the all the tags for x,y\n",
    "    xmins_tag = root.getElementsByTagName('xmin')\n",
    "    ymins_tag = root.getElementsByTagName('ymin')\n",
    "    xmaxs_tag = root.getElementsByTagName('xmax')\n",
    "    ymaxs_tag = root.getElementsByTagName('ymax')\n",
    "\n",
    "    \n",
    "    # Fill the lists for wheels\n",
    "    for i in xmins_tag:\n",
    "        xmins.append(int(i.firstChild.data))\n",
    "    for i in ymins_tag:\n",
    "        ymins.append(int(i.firstChild.data))\n",
    "    for i in xmaxs_tag:\n",
    "        xmaxs.append(int(i.firstChild.data))\n",
    "    for i in ymaxs_tag:\n",
    "        ymaxs.append(int(i.firstChild.data))\n",
    "\n",
    "\n",
    "    # Draw the bounding box\n",
    "    for i in range(len(xmins)):\n",
    "        cv2.rectangle(img, (xmins[i],ymins[i]), (xmaxs[i],ymaxs[i]), (0,255,0), 4)\n",
    "\n",
    "\n",
    "    cv2.imwrite(vis_path + name + '.jpg', img)"
   ]
  },
  {
   "cell_type": "code",
   "execution_count": 2,
   "metadata": {},
   "outputs": [],
   "source": [
    "# get a list of all filenames in the file path\n",
    "def get_files_name(filepath):\n",
    "    pathDir =  os.listdir(filepath)\n",
    "    name = []\n",
    "    for allDir in pathDir:\n",
    "        child = os.path.join('%s%s' % (filepath, allDir))\n",
    "        name.append(child.split('/')[1].split('.')[0])  #only keep the name between / and .\n",
    "    return name\n",
    "        "
   ]
  },
  {
   "cell_type": "code",
   "execution_count": 3,
   "metadata": {},
   "outputs": [],
   "source": [
    "# Put the ipnb in the \"wheel\" file \n",
    "# Create a file called \"img_vis\" and run the code\n",
    "img_path = '.\\img/'\n",
    "label_path = '.\\label/'\n",
    "vis_path = '.\\img_vis\\vis_'\n",
    "    \n",
    "file_name_list = get_files_name(label_path)\n",
    "    \n",
    "for file_name in file_name_list:\n",
    "    label_image(file_name)"
   ]
  }
 ],
 "metadata": {
  "kernelspec": {
   "display_name": "Python 3",
   "language": "python",
   "name": "python3"
  },
  "language_info": {
   "codemirror_mode": {
    "name": "ipython",
    "version": 3
   },
   "file_extension": ".py",
   "mimetype": "text/x-python",
   "name": "python",
   "nbconvert_exporter": "python",
   "pygments_lexer": "ipython3",
   "version": "3.6.5"
  }
 },
 "nbformat": 4,
 "nbformat_minor": 2
}
