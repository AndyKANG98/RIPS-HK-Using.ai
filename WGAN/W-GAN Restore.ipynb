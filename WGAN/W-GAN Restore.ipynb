{
 "cells": [
  {
   "cell_type": "markdown",
   "metadata": {},
   "source": [
    "# W-GAN Restore\n",
    "This notebook shows how to restore the generative model from the checkpoints"
   ]
  },
  {
   "cell_type": "code",
   "execution_count": 1,
   "metadata": {},
   "outputs": [
    {
     "name": "stderr",
     "output_type": "stream",
     "text": [
      "C:\\Users\\Kang\\Anaconda3\\envs\\cs231n\\lib\\site-packages\\h5py\\__init__.py:36: FutureWarning: Conversion of the second argument of issubdtype from `float` to `np.floating` is deprecated. In future, it will be treated as `np.float64 == np.dtype(float).type`.\n",
      "  from ._conv import register_converters as _register_converters\n"
     ]
    }
   ],
   "source": [
    "from __future__ import division\n",
    "from __future__ import print_function\n",
    "from __future__ import absolute_import\n",
    "\n",
    "import glob\n",
    "import utils\n",
    "import traceback\n",
    "import numpy as np\n",
    "import tensorflow as tf\n",
    "import models_64x64 as models\n",
    "import matplotlib\n",
    "import matplotlib.pyplot as plt\n",
    "import os"
   ]
  },
  {
   "cell_type": "markdown",
   "metadata": {},
   "source": [
    "## Biuld up the Graph"
   ]
  },
  {
   "cell_type": "code",
   "execution_count": 2,
   "metadata": {},
   "outputs": [
    {
     "name": "stdout",
     "output_type": "stream",
     "text": [
      "WARNING:tensorflow:Tensor._shape is private, use Tensor.shape instead. Tensor._shape will eventually be removed.\n",
      "WARNING:tensorflow:Tensor._shape is private, use Tensor.shape instead. Tensor._shape will eventually be removed.\n",
      "WARNING:tensorflow:Tensor._shape is private, use Tensor.shape instead. Tensor._shape will eventually be removed.\n"
     ]
    }
   ],
   "source": [
    "\"\"\"Set the necessary parameters\"\"\"\n",
    "lr = 0.0002\n",
    "z_dim = 100\n",
    "gpu_id = 3\n",
    "\n",
    "\n",
    "\"\"\"Biuld up the graph again exactly the same as the train_cartoon_wgan_gp.py file\"\"\"\n",
    "with tf.device('/gpu:%d' % gpu_id):\n",
    "    ''' models '''\n",
    "    generator = models.generator\n",
    "    discriminator = models.discriminator_wgan_gp\n",
    "\n",
    "    ''' graph '''\n",
    "    # inputs\n",
    "    real = tf.placeholder(tf.float32, shape=[None, 64, 64, 3])\n",
    "    z = tf.placeholder(tf.float32, shape=[None, z_dim])\n",
    "\n",
    "    # generate\n",
    "    fake = generator(z, reuse=False)\n",
    "\n",
    "    # dicriminate\n",
    "    r_logit = discriminator(real, reuse=False)\n",
    "    f_logit = discriminator(fake)\n",
    "\n",
    "    # losses\n",
    "    def gradient_penalty(real, fake, f):\n",
    "        def interpolate(a, b):\n",
    "            shape = tf.concat((tf.shape(a)[0:1], tf.tile([1], [a.shape.ndims - 1])), axis=0)\n",
    "            alpha = tf.random_uniform(shape=shape, minval=0., maxval=1.)\n",
    "            inter = a + alpha * (b - a)\n",
    "            inter.set_shape(a.get_shape().as_list())\n",
    "            return inter\n",
    "\n",
    "        x = interpolate(real, fake)\n",
    "        pred = f(x)\n",
    "        gradients = tf.gradients(pred, x)[0]\n",
    "        slopes = tf.sqrt(tf.reduce_sum(tf.square(gradients), reduction_indices=list(range(1, x.shape.ndims))))\n",
    "        gp = tf.reduce_mean((slopes - 1.)**2)\n",
    "        return gp\n",
    "\n",
    "    wd = tf.reduce_mean(r_logit) - tf.reduce_mean(f_logit)\n",
    "    gp = gradient_penalty(real, fake, discriminator)\n",
    "    d_loss = -wd + gp * 10.0\n",
    "    g_loss = -tf.reduce_mean(f_logit)\n",
    "\n",
    "    # otpims\n",
    "    d_var = utils.trainable_variables('discriminator')\n",
    "    g_var = utils.trainable_variables('generator')\n",
    "    d_step = tf.train.AdamOptimizer(learning_rate=lr, beta1=0.5).minimize(d_loss, var_list=d_var)\n",
    "    g_step = tf.train.AdamOptimizer(learning_rate=lr, beta1=0.5).minimize(g_loss, var_list=g_var)\n",
    "\n",
    "    # summaries\n",
    "    d_summary = utils.summary({wd: 'wd', gp: 'gp'})\n",
    "    g_summary = utils.summary({g_loss: 'g_loss'})\n",
    "\n",
    "    # sample\n",
    "    f_sample = generator(z, training=False)"
   ]
  },
  {
   "cell_type": "markdown",
   "metadata": {},
   "source": [
    "## Load the Checkpoints"
   ]
  },
  {
   "cell_type": "code",
   "execution_count": 3,
   "metadata": {},
   "outputs": [
    {
     "name": "stdout",
     "output_type": "stream",
     "text": [
      " [*] Loading checkpoint...\n",
      "INFO:tensorflow:Restoring parameters from ./checkpoints/wgan_gp_new_img/Epoch_(1999)_(1of1).ckpt\n",
      " [*] Loading successful! Copy variables from ./checkpoints/wgan_gp_new_img/Epoch_(1999)_(1of1).ckpt\n"
     ]
    },
    {
     "data": {
      "text/plain": [
       "True"
      ]
     },
     "execution_count": 3,
     "metadata": {},
     "output_type": "execute_result"
    }
   ],
   "source": [
    "#Get the session of graph above\n",
    "sess = utils.session()\n",
    "it_cnt, update_cnt = utils.counter()\n",
    "saver=tf.train.Saver(max_to_keep=5)\n",
    "summary_writer = tf.summary.FileWriter('./summaries/wgan_gp_new_img', sess.graph)\n",
    "\n",
    "# set the checkpoint directory\n",
    "ckpt_dir = './checkpoints/wgan_gp_new_img/'\n",
    "\n",
    "utils.load_checkpoint(ckpt_dir, sess)"
   ]
  },
  {
   "cell_type": "markdown",
   "metadata": {},
   "source": [
    "## Generate Samples with the Gnerator"
   ]
  },
  {
   "cell_type": "code",
   "execution_count": 4,
   "metadata": {},
   "outputs": [
    {
     "name": "stderr",
     "output_type": "stream",
     "text": [
      "Clipping input data to the valid range for imshow with RGB data ([0..1] for floats or [0..255] for integers).\n"
     ]
    },
    {
     "data": {
      "text/plain": [
       "<matplotlib.image.AxesImage at 0x1bf3930cc18>"
      ]
     },
     "execution_count": 4,
     "metadata": {},
     "output_type": "execute_result"
    },
    {
     "data": {
      "image/png": "[encoded data removed]",
      "text/plain": [
       "<Figure size 432x288 with 1 Axes>"
      ]
     },
     "metadata": {},
     "output_type": "display_data"
    }
   ],
   "source": [
    "z_dim = 100 # the dimension of random noise\n",
    "n_size = 4 # the number of pictures you want to generate\n",
    "z_ipt_sample = np.random.normal(size=[n_size, z_dim]) # n_size * 64 * 64                                 \n",
    "f_sample_opt = sess.run(f_sample, feed_dict={z: z_ipt_sample})\n",
    "img = utils.immerge(f_sample_opt, 2, 2) # 10*10 display ==== n_size\n",
    "plt.imshow(img)"
   ]
  },
  {
   "cell_type": "markdown",
   "metadata": {},
   "source": [
    "## Export the Generated Pictures"
   ]
  },
  {
   "cell_type": "code",
   "execution_count": 5,
   "metadata": {},
   "outputs": [
    {
     "name": "stderr",
     "output_type": "stream",
     "text": [
      "Clipping input data to the valid range for imshow with RGB data ([0..1] for floats or [0..255] for integers).\n",
      "Clipping input data to the valid range for imshow with RGB data ([0..1] for floats or [0..255] for integers).\n",
      "Clipping input data to the valid range for imshow with RGB data ([0..1] for floats or [0..255] for integers).\n",
      "Clipping input data to the valid range for imshow with RGB data ([0..1] for floats or [0..255] for integers).\n"
     ]
    }
   ],
   "source": [
    "# export all the image generated 64*64*3\n",
    "save_path = '../data/wheel/g_result'\n",
    "if not os.path.exists(save_path):\n",
    "    os.makedirs(save_path)\n",
    "for i in range(n_size):\n",
    "    array = f_sample_opt[i]\n",
    "    matplotlib.image.imsave(save_path + '/%s.png'%i, array)"
   ]
  }
 ],
 "metadata": {
  "kernelspec": {
   "display_name": "Python 3",
   "language": "python",
   "name": "python3"
  },
  "language_info": {
   "codemirror_mode": {
    "name": "ipython",
    "version": 3
   },
   "file_extension": ".py",
   "mimetype": "text/x-python",
   "name": "python",
   "nbconvert_exporter": "python",
   "pygments_lexer": "ipython3",
   "version": "3.6.5"
  }
 },
 "nbformat": 4,
 "nbformat_minor": 2
}
