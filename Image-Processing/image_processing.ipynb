{
 "cells": [
  {
   "cell_type": "markdown",
   "metadata": {},
   "source": [
    "## Image Processing Notebook \n",
    "* Here are demos for processing images\n",
    "    * label_visualization\n",
    "        * data_vis: to visualize the object position using the coordinate information in xml files\n",
    "    * dataset_resize\n",
    "        * label_resize: resize the information in label to certain height and width\n",
    "        * image_resize: resize the images to certain height and width\n",
    "    *  vid_to_image\n",
    "        * vid_to_image: convert online video to images\n",
    "    * generate_empty_xml\n",
    "        * generate_empty_xml: to generate empty labeled xml files with \"no-tire images\""
   ]
  },
  {
   "cell_type": "code",
   "execution_count": 1,
   "metadata": {},
   "outputs": [],
   "source": [
    "# Function for label visualizaiton\n",
    "from label_visualization import data_vis\n",
    "\n",
    "img_path = '../data/wheel/img/'\n",
    "label_path = '../data/wheel/label/'\n",
    "vis_path = '../data/wheel/img_vis/'\n",
    "\n",
    "data_vis(img_path, label_path, vis_path)"
   ]
  },
  {
   "cell_type": "code",
   "execution_count": 2,
   "metadata": {},
   "outputs": [],
   "source": [
    "# Function for data set resize\n",
    "from dataset_resize import label_resize, image_resize\n",
    "\n",
    "height = 150\n",
    "width = 150\n",
    "\n",
    "img_path = '../data/wheel/img/'\n",
    "label_path = '../data/wheel/label/'\n",
    "\n",
    "new_img_path = '../data/wheel/new_img/'\n",
    "new_label_path = '../data/wheel/new_label/'\n",
    "\n",
    "label_resize(height, width, label_path, new_label_path)\n",
    "image_resize(height, width, img_path, new_img_path)"
   ]
  },
  {
   "cell_type": "code",
   "execution_count": 3,
   "metadata": {},
   "outputs": [
    {
     "name": "stdout",
     "output_type": "stream",
     "text": [
      "Number of picures captured: 146651\n"
     ]
    }
   ],
   "source": [
    "# Function for convert online video to \n",
    "from vid_to_image import vid_to_image\n",
    "#change URL here\n",
    "url_example = 'https://www.youtube.com/watch?v=Qa_ZSRj0WM0'\n",
    "\n",
    "#change destination here\n",
    "\n",
    "dst_example = '../data/wheel/video_test/'\n",
    "\n",
    "#run function \n",
    "\n",
    "vid_to_image(url_example, dst_example)"
   ]
  },
  {
   "cell_type": "code",
   "execution_count": 4,
   "metadata": {},
   "outputs": [],
   "source": [
    "from generate_empty_xml import generate_empty_xml\n",
    "\n",
    "img_path = '../data/wheel/img/'\n",
    "label_path = '../data/wheel/empty_label/'\n",
    "\n",
    "generate_empty_xml(img_path, label_path)"
   ]
  }
 ],
 "metadata": {
  "kernelspec": {
   "display_name": "Python 3",
   "language": "python",
   "name": "python3"
  },
  "language_info": {
   "codemirror_mode": {
    "name": "ipython",
    "version": 3
   },
   "file_extension": ".py",
   "mimetype": "text/x-python",
   "name": "python",
   "nbconvert_exporter": "python",
   "pygments_lexer": "ipython3",
   "version": "3.6.5"
  }
 },
 "nbformat": 4,
 "nbformat_minor": 2
}
