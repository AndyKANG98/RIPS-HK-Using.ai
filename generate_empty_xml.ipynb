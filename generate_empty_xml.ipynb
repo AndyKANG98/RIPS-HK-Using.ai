{
 "cells": [
  {
   "cell_type": "code",
   "execution_count": 1,
   "metadata": {},
   "outputs": [],
   "source": [
    "\n",
    "################### Generate Empty XML#########################\n",
    "#Use this jupyter notebook to generate empty labeled xml files\n",
    "\"\"\"\n",
    "<annotation>\n",
    "    <folder>img</folder>\n",
    "    <filename>download_1_31_1.jpg</filename>\n",
    "    <path>/data/dataset/wheel/img/download_1_31_1.jpg</path>\n",
    "    <source>\n",
    "        <database>Unknown</database>\n",
    "    </source>\n",
    "    <size>\n",
    "        <width>179</width>\n",
    "        <height>112</height>\n",
    "        <depth>3</depth>\n",
    "    </size>\n",
    "    <segmented>0</segmented>\n",
    "</annotation>\n",
    "\"\"\"\n",
    "#################################################################\n",
    "\n",
    "import xml.etree.cElementTree as ET\n",
    "import os"
   ]
  },
  {
   "cell_type": "code",
   "execution_count": 2,
   "metadata": {},
   "outputs": [],
   "source": [
    "# Function to write empty label\n",
    "def write_empty_xml(folder, name, input_path, width, height, depth, output_path):\n",
    "    root = ET.Element(\"annotation\")\n",
    "    ET.SubElement(root, \"folder\").text = folder\n",
    "    ET.SubElement(root, \"filename\").text = name+'.jpg'\n",
    "    ET.SubElement(root, \"path\").text = input_path\n",
    "\n",
    "    source = ET.SubElement(root, \"source\")\n",
    "\n",
    "    ET.SubElement(source, \"database\").text = \"Unknown\"\n",
    "    size = ET.SubElement(root, \"size\")\n",
    "    ET.SubElement(size, \"width\").text = str(width)\n",
    "    ET.SubElement(size, \"height\").text = str(height)\n",
    "    ET.SubElement(size, \"depth\").text = str(depth)\n",
    "\n",
    "    ET.SubElement(root, \"segmented\").text = '0'\n",
    "\n",
    "    tree = ET.ElementTree(root)\n",
    "    tree.write(output_path + '.xml')"
   ]
  },
  {
   "cell_type": "code",
   "execution_count": 3,
   "metadata": {},
   "outputs": [],
   "source": [
    "# Function to get the name of files\n",
    "def get_files_name(filepath):\n",
    "    pathDir =  os.listdir(filepath)\n",
    "    name = []\n",
    "    for allDir in pathDir:\n",
    "        child = os.path.join('%s%s' % (filepath, allDir))\n",
    "        name.append(child.split('/')[-1].split('.')[0])  #only keep the name between / and .\n",
    "    return name"
   ]
  },
  {
   "cell_type": "code",
   "execution_count": 4,
   "metadata": {},
   "outputs": [],
   "source": [
    "##############Modify the parameters here###############\n",
    "# The size of all the resized images\n",
    "width = 150\n",
    "height = 150\n",
    "depth = 3\n",
    "\n",
    "# folder's name to store the image data //should have no influence at all\n",
    "folder = 'img'\n",
    "\n",
    "################Modify the path here####################\n",
    "img_path = r'./img/' # path for the image folder you want to extract\n",
    "label_path = r'./label/' # path for the labeled folder you want to write to\n",
    "    \n",
    "# Get the list of filenames\n",
    "file_name_list = get_files_name(img_path)\n",
    "\n",
    "# write all the empty xml for every images\n",
    "for file_name in file_name_list:\n",
    "    input_path = img_path + file_name\n",
    "    output_path = label_path + file_name\n",
    "    write_empty_xml(folder, file_name, input_path, width, height, depth, output_path)"
   ]
  }
 ],
 "metadata": {
  "kernelspec": {
   "display_name": "Python 3",
   "language": "python",
   "name": "python3"
  },
  "language_info": {
   "codemirror_mode": {
    "name": "ipython",
    "version": 3
   },
   "file_extension": ".py",
   "mimetype": "text/x-python",
   "name": "python",
   "nbconvert_exporter": "python",
   "pygments_lexer": "ipython3",
   "version": "3.6.5"
  }
 },
 "nbformat": 4,
 "nbformat_minor": 2
}
